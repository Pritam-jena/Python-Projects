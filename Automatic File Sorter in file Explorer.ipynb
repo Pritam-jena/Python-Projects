{
 "cells": [
  {
   "cell_type": "markdown",
   "id": "37e96bac",
   "metadata": {},
   "source": [
    "# Automatic File Sorter in file Explorer"
   ]
  },
  {
   "cell_type": "code",
   "execution_count": 1,
   "id": "b8e5e395",
   "metadata": {},
   "outputs": [],
   "source": [
    "import os, shutil\n",
    "\n",
    "# Shutil help to perform some high level operations on our filein file explorer"
   ]
  },
  {
   "cell_type": "code",
   "execution_count": 2,
   "id": "26c981ba",
   "metadata": {},
   "outputs": [],
   "source": [
    "path = r\"C:/Users/jenap/Desktop/Python_organised folder/Automatic file sorter example/\""
   ]
  },
  {
   "cell_type": "code",
   "execution_count": 7,
   "id": "550779bd",
   "metadata": {},
   "outputs": [],
   "source": [
    "files_name = os.listdir(path)"
   ]
  },
  {
   "cell_type": "code",
   "execution_count": 8,
   "id": "d7937939",
   "metadata": {},
   "outputs": [
    {
     "name": "stdout",
     "output_type": "stream",
     "text": [
      "There are files that are not moved\n",
      "There are files that are not moved\n",
      "There are files that are not moved\n"
     ]
    }
   ],
   "source": [
    "folder_name = [\"csv files\", \"image files\", \"text files\"]\n",
    "\n",
    "for i in folder_name:\n",
    "    if not os.path.exists(path + i):\n",
    "        os.makedirs(path + i)\n",
    "        \n",
    "for file in files_name:\n",
    "    if \".csv\" in file and not os.path.exists(path + \"csv files/\" + file):\n",
    "        shutil.move(path + file, path + \"csv files/\" + file)\n",
    "    elif \".jpeg\" in file and not os.path.exists(path + \"image files/\" + file):\n",
    "        shutil.move(path + file, path + \"image files/\" + file)\n",
    "    elif \".txt\" in file and not os.path.exists(path + \"text files/\" + file):\n",
    "        shutil.move(path + file, path + \"text files/\" + file)"
   ]
  },
  {
   "cell_type": "code",
   "execution_count": null,
   "id": "17bde9f3",
   "metadata": {},
   "outputs": [],
   "source": []
  }
 ],
 "metadata": {
  "kernelspec": {
   "display_name": "Python 3 (ipykernel)",
   "language": "python",
   "name": "python3"
  },
  "language_info": {
   "codemirror_mode": {
    "name": "ipython",
    "version": 3
   },
   "file_extension": ".py",
   "mimetype": "text/x-python",
   "name": "python",
   "nbconvert_exporter": "python",
   "pygments_lexer": "ipython3",
   "version": "3.11.4"
  }
 },
 "nbformat": 4,
 "nbformat_minor": 5
}
